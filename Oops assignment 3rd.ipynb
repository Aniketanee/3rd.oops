{
 "cells": [
  {
   "cell_type": "markdown",
   "id": "83258d23-23ae-4ecb-b67d-80b4c563d0c4",
   "metadata": {},
   "source": [
    "Assignment "
   ]
  },
  {
   "cell_type": "markdown",
   "id": "ddb36ac4-2e30-44fa-ac2f-6f9d6635da56",
   "metadata": {},
   "source": [
    "Solution - 1"
   ]
  },
  {
   "cell_type": "markdown",
   "id": "32123595-1e6b-4181-82b9-c4d41d1dafab",
   "metadata": {},
   "source": [
    "Abstraction enables you to define the structure and behavior of an object without exposing the internal implementation details to the outside world."
   ]
  },
  {
   "cell_type": "code",
   "execution_count": 42,
   "id": "1034684b-2098-4569-bf5a-a02798835532",
   "metadata": {},
   "outputs": [
    {
     "name": "stdout",
     "output_type": "stream",
     "text": [
      "100\n"
     ]
    }
   ],
   "source": [
    "from abc import ABC, abstractmethod\n",
    "\n",
    "class Shape(ABC):\n",
    "    @abstractmethod\n",
    "    def calculate_area(self):\n",
    "        pass\n",
    "\n",
    "class Square(Shape):\n",
    "    def __init__(self, side):\n",
    "        self.side = side\n",
    "\n",
    "    def calculate_area(self):\n",
    "        return self.side * self.side\n",
    "\n",
    "square = Square(10)\n",
    "print(square.calculate_area())  "
   ]
  },
  {
   "cell_type": "markdown",
   "id": "855b5ab0-5478-4b9e-9ff6-3a6658cbabd3",
   "metadata": {},
   "source": [
    "Solution - 2"
   ]
  },
  {
   "cell_type": "markdown",
   "id": "4482af76-a550-4778-9a5c-9f3358217f5c",
   "metadata": {},
   "source": [
    "Abstraction - is the process of representing the essential features of an object while hiding unnecessary details. It allows you to create a simplified view of an object's behavior, focusing on what the object does rather than how it does it. Abstraction is achieved through abstract classes and interfaces in OOP, which provide a blueprint for other classes to implement."
   ]
  },
  {
   "cell_type": "code",
   "execution_count": 56,
   "id": "baaa992b-1154-4b27-8c72-433f4462ada1",
   "metadata": {},
   "outputs": [
    {
     "name": "stdout",
     "output_type": "stream",
     "text": [
      "25\n",
      "28.259999999999998\n"
     ]
    }
   ],
   "source": [
    "from abc import ABC, abstractmethod\n",
    "\n",
    "class Shape(ABC):\n",
    "    @abstractmethod\n",
    "    def calculate_area(self):\n",
    "        pass\n",
    "\n",
    "class Square(Shape):\n",
    "    def __init__(self, side):\n",
    "        self.side = side\n",
    "\n",
    "    def calculate_area(self):\n",
    "        return self.side * self.side\n",
    "\n",
    "class Circle(Shape):\n",
    "    def __init__(self, radius):\n",
    "        self.radius = radius\n",
    "\n",
    "    def calculate_area(self):\n",
    "        return 3.14 * self.radius * self.radius\n",
    "\n",
    "square = Square(5)\n",
    "print(square.calculate_area()) \n",
    "circle = Circle(3)\n",
    "print(circle.calculate_area()) \n"
   ]
  },
  {
   "cell_type": "markdown",
   "id": "3cfbc693-add9-4653-9b77-fd102259fc94",
   "metadata": {},
   "source": [
    "Encapsulation - is the process of bundling data  and methods that operate on that data within a single unit, often referred to as a class. It allows you to control the access to the internal state of an object, protecting it from unauthorized access and modification from outside the class. Encapsulation promotes data hiding, which means that the internal representation of an object is hidden from the outside world, and access to it is controlled through methods."
   ]
  },
  {
   "cell_type": "code",
   "execution_count": 58,
   "id": "fac05b8d-477e-4bc1-a25e-b2a1671cbb67",
   "metadata": {},
   "outputs": [
    {
     "name": "stdout",
     "output_type": "stream",
     "text": [
      "1000\n",
      "1500\n",
      "800\n"
     ]
    }
   ],
   "source": [
    "class BankAccount:\n",
    "    def __init__(self, account_number, balance):\n",
    "        self.__account_number = account_number\n",
    "        self.__balance = balance\n",
    "\n",
    "    def get_balance(self):\n",
    "        return self.__balance\n",
    "\n",
    "    def deposit(self, amount):\n",
    "        if amount > 0:\n",
    "            self.__balance += amount\n",
    "\n",
    "    def withdraw(self, amount):\n",
    "        if 0 < amount <= self.__balance:\n",
    "            self.__balance -= amount\n",
    "\n",
    "account = BankAccount(\"767655443\", 1000)\n",
    "\n",
    "print(account.get_balance())  \n",
    "account.deposit(500)\n",
    "print(account.get_balance())  \n",
    "account.withdraw(700)\n",
    "print(account.get_balance())  "
   ]
  },
  {
   "cell_type": "markdown",
   "id": "51b8aec8-08d3-4363-bff9-664f636a7b52",
   "metadata": {},
   "source": [
    "Solution - 3"
   ]
  },
  {
   "cell_type": "markdown",
   "id": "f00ba93b-28b0-4ee3-96be-c87d5eef32d7",
   "metadata": {},
   "source": [
    "The abc module in Python stands for \"Abstract Base Classes.\" It is a module that provides the infrastructure for defining abstract base classes, which are classes that cannot be instantiated directly but are intended to be subclassed by other classes. Abstract base classes serve as blueprints or templates for other classes to implement specific behavior."
   ]
  },
  {
   "cell_type": "markdown",
   "id": "cbe31f7d-e6f9-4fd5-860c-6c5db858f863",
   "metadata": {},
   "source": [
    "Solution - 4"
   ]
  },
  {
   "cell_type": "markdown",
   "id": "4c0de773-72b8-4611-ab4a-f6f9f7f2bb06",
   "metadata": {},
   "source": [
    "We can achieve data abstraction through the use of abstract classes and interfaces provided by the abc module. Data abstraction allows you to present a simplified view of an object's data attributes and hide the internal implementation details from the outside world."
   ]
  },
  {
   "cell_type": "markdown",
   "id": "ff0ec89d-49a1-450b-b894-cdeed538b002",
   "metadata": {},
   "source": [
    "Solution - 5"
   ]
  },
  {
   "cell_type": "markdown",
   "id": "81865ea1-5f4f-4e64-8571-031faa978682",
   "metadata": {},
   "source": [
    "No, we cannot create an instance of an abstract class directly in Python. An abstract class is a class that contains one or more abstract methods  and is meant to serve as a blueprint for other classes to implement. The primary purpose of an abstract class is to provide a common interface and structure for its subclasses."
   ]
  }
 ],
 "metadata": {
  "kernelspec": {
   "display_name": "Python 3 (ipykernel)",
   "language": "python",
   "name": "python3"
  },
  "language_info": {
   "codemirror_mode": {
    "name": "ipython",
    "version": 3
   },
   "file_extension": ".py",
   "mimetype": "text/x-python",
   "name": "python",
   "nbconvert_exporter": "python",
   "pygments_lexer": "ipython3",
   "version": "3.10.8"
  }
 },
 "nbformat": 4,
 "nbformat_minor": 5
}
